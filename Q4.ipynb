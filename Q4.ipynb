{
 "cells": [
  {
   "cell_type": "markdown",
   "metadata": {},
   "source": [
    "Q4. Generate the following signals with the specified sampling rate and listen to it.   Let $t$ vary from $0 - 3$seconds. Let the sampling rate is 8000Hz or a sampling time period is $125 \\mu s$  (A sample is taken at every integer multiple of $125 \\mu s$ )\n",
    " <ol>\n",
    "  <li>$x(t) = sin(100\\pi t)$ (100 Hz sinusoid)  </li>\n",
    " <li>$x(t) = cos(1000\\pi t)$ (1kHz sinusoid)  </li>\n",
    "  <li>$x(t) = sin(100 \\pi t^2) $  (Called a chirp signal) </li>\n",
    "</ol>"
   ]
  },
  {
   "cell_type": "code",
   "execution_count": 5,
   "metadata": {},
   "outputs": [],
   "source": [
    "import numpy as np\n",
    "import matplotlib.pyplot as plt\n",
    "from scipy.io.wavfile import write\n",
    "\n",
    "samplerate = 8000\n",
    "duration = 3 \n",
    "t = np.linspace(0., 1.0 * duration, samplerate * duration)"
   ]
  },
  {
   "cell_type": "code",
   "execution_count": 6,
   "metadata": {},
   "outputs": [],
   "source": [
    "#Q4.1)\n",
    "\n",
    "x1 = np.sin(100 * np.pi  * t)\n",
    "write(\"1.wav\", samplerate, x1.astype(np.float32))"
   ]
  },
  {
   "cell_type": "code",
   "execution_count": 7,
   "metadata": {},
   "outputs": [],
   "source": [
    "#Q4.2)\n",
    "\n",
    "x2 = np.cos(1000 * np.pi  * t)\n",
    "write(\"2.wav\", samplerate, x2.astype(np.float32))"
   ]
  },
  {
   "cell_type": "code",
   "execution_count": 8,
   "metadata": {},
   "outputs": [],
   "source": [
    "#4.3)\n",
    "\n",
    "x3 = np.sin(100 * np.pi  * (t ** 2))\n",
    "write(\"3.wav\", samplerate, x3.astype(np.float32))"
   ]
  },
  {
   "cell_type": "code",
   "execution_count": null,
   "metadata": {},
   "outputs": [],
   "source": []
  }
 ],
 "metadata": {
  "kernelspec": {
   "display_name": "Python 3",
   "language": "python",
   "name": "python3"
  },
  "language_info": {
   "codemirror_mode": {
    "name": "ipython",
    "version": 3
   },
   "file_extension": ".py",
   "mimetype": "text/x-python",
   "name": "python",
   "nbconvert_exporter": "python",
   "pygments_lexer": "ipython3",
   "version": "3.8.3"
  }
 },
 "nbformat": 4,
 "nbformat_minor": 4
}
