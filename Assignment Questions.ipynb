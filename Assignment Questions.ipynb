{
 "cells": [
  {
   "cell_type": "markdown",
   "metadata": {
    "id": "wrlKWOnJjGIa"
   },
   "source": [
    "Q1. Compute the DTFT (magnitude and phase) of the following (use <i>scipy.signal.freqz</i>). Plot from $\\omega = −2\\pi$ to $2\\pi$. Observe the periodicty, symmetries and relations between the spectra.\n",
    "\n",
    "https://docs.scipy.org/doc/scipy-0.18.1/reference/generated/scipy.signal.freqz.html\n",
    "\n",
    "<ol>\n",
    "  <li>$r[n] = u[n] − u[n − 5]$  </li>\n",
    "    <li>$(−1)^nr[n]$ </li>\n",
    "</ol>"
   ]
  },
  {
   "cell_type": "markdown",
   "metadata": {
    "id": "4XYvmFGlhcqg"
   },
   "source": [
    "Q2. Plot the 32 point DFT of the following signals and comment on the spectral estimate.\n",
    "<ol>\n",
    "  <li>$x[n] = cos(3{\\pi}n/8)$</li>\n",
    "  <li>$x[n] = cos(3{\\pi}n/16)$</li>\n",
    "  <li>$x[n] = cos(3{\\pi}n/17)$</li>\n",
    "</ol>\n"
   ]
  },
  {
   "cell_type": "markdown",
   "metadata": {
    "id": "zQom-MkajT0a"
   },
   "source": [
    "Q3. Record your own voice at a sampling rate of 16kHz for one of the following  vowels for 1s,  --  aa, ii, oo , E  ( आ   ई  ऊ  ए ) .   Please compute the DTFT and plot.   Write down your observations. \n"
   ]
  },
  {
   "cell_type": "markdown",
   "metadata": {
    "id": "x7ci_VfbkwMW"
   },
   "source": [
    "\n",
    "Q4. Generate the following signals with the specified sampling rate and listen to it.   Let $t$ vary from $0 - 3$seconds. Let the sampling rate is 8000Hz or a sampling time period is $125 \\mu s$  (A sample is taken at every integer multiple of $125 \\mu s$ )\n",
    " <ol>\n",
    "  <li>$x(t) = sin(100\\pi t)$ (100 Hz sinusoid)  </li>\n",
    " <li>$x(t) = cos(1000\\pi t)$ (1kHz sinusoid)  </li>\n",
    "  <li>$x(t) = sin(100 \\pi t^2) $  (Called a chirp signal) </li>\n",
    "</ol>\n",
    "To listen to a signal, write the signal to a file using wave write command  from scipy\n",
    "Please look up the documentation here (https://docs.scipy.org/doc/scipy-0.14.0/reference/generated/scipy.io.wavfile.write.html).   Then download the signal and listen to it."
   ]
  },
  {
   "cell_type": "markdown",
   "metadata": {
    "id": "fiQUZevSnjIj"
   },
   "source": [
    "Q5. Consider a round theatre where an orchestra is in the middle of two concentric circles and the walls on one half side are at a radial distances of $17.15m$ (inner circle) and $34.3m$ (outer circle) on the other side from the\n",
    "orchestra. The speed of sound is $343 m/s$. Assume that the recorded signal is the sum of the original signal and the attenuated echoes from the two walls and is given by $r[n] = y[n] + 0.8y[n − N1] + 0.6y[n − N2]$ where,\n",
    "$N1$ is the delay caused by the closest wall and N2 is the delay caused by the farther wall. The recorder is in the centre of the theatre. Take any audio signal available and generate $r[n]$ and listen to both the original and\n",
    "the echoed signal. Write your observations and upload the original and echoed signal. "
   ]
  },
  {
   "cell_type": "markdown",
   "metadata": {
    "id": "bn7-3U8hsxtg"
   },
   "source": [
    "Q6. For the LTI systems described by the following difference equation, generate the frequency response. Obtain the pole zero plot. Comment on the type of response (stable/causal etc)\n",
    "\n",
    "$y[n] + 1.3y[n - 1] + 1.29y[n - 2] + 0.52y[n - 3] + 0.16y[n - 4] = x[n] - 0.9x[n - 1]$\n",
    "\n",
    "$y[n] - 1.3y[n - 1] + 1.29y[n - 2] - 0.52y[n - 3] + 0.16y[n - 4] = x[n] + 0.9x[n - 1]$"
   ]
  },
  {
   "cell_type": "markdown",
   "metadata": {
    "id": "_oHA-IvOsxVc"
   },
   "source": []
  },
  {
   "cell_type": "markdown",
   "metadata": {
    "id": "3fIFyDbQtM5H"
   },
   "source": [
    "Q7. Consider the following low pass filters with impulse responses in the form of step function, triangular and sinc functions of length N, given by:\n",
    "<ol>\n",
    "  <li>$ h_S[n] = u[n] − u[n − (N − 1)]$ </li>\n",
    "  <li> $ h_L[n] = tri(\\frac{n}{N}) = \\begin {cases} 1-\\frac{|n|}{N}~~~,~~~|n|\\le{N}\\\\0~~~~~~~~~~~~,~~~elsewhere \\end{cases} $\n",
    "  <li>$ h_L[n]$ = $sinc(\\frac{n}{N})$ = $\\frac{sin(πn/N)}{πn/N}; \\,\\, sinc(0) = 1$ </li>  \n",
    "</ol>\n",
    "\n",
    "Plot the magnitude response of each function for $N=4$ and $N=8$. How does the response of step, linear and windowed $sinc$ schemes compare with ideal low pass case"
   ]
  },
  {
   "cell_type": "markdown",
   "metadata": {
    "id": "qurm1mGRtk4b"
   },
   "source": [
    "Q8. Generate the following signals $x_1[n] = cos({\\pi}n/15),~~x_2[n] = cos(3{\\pi}n/15)$ for n = 0 to 31. Plot the magnitude of 64 point DFT of the two signals $X_1[k]$ and $X_2[k]$ (with zero padding). Now concatenate the two signals to form a 64 length sequence $x[n]$. Plot the 64 point DFT magnitude $X[k]$ of $x[n]$. Also find the sum of two signals and plot the 64 point DFT of the result.  Write down your observations."
   ]
  },
  {
   "cell_type": "code",
   "execution_count": null,
   "metadata": {
    "id": "dxkuhP2jtQm1"
   },
   "outputs": [],
   "source": []
  }
 ],
 "metadata": {
  "colab": {
   "authorship_tag": "ABX9TyOy8YYmjWKDiwQQEgPE137e",
   "name": "assignment.ipynb",
   "provenance": []
  },
  "kernelspec": {
   "display_name": "Python 3",
   "language": "python",
   "name": "python3"
  },
  "language_info": {
   "codemirror_mode": {
    "name": "ipython",
    "version": 3
   },
   "file_extension": ".py",
   "mimetype": "text/x-python",
   "name": "python",
   "nbconvert_exporter": "python",
   "pygments_lexer": "ipython3",
   "version": "3.8.5"
  }
 },
 "nbformat": 4,
 "nbformat_minor": 1
}
